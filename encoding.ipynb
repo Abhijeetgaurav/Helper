{
 "cells": [
  {
   "cell_type": "markdown",
   "id": "e63295c3",
   "metadata": {},
   "source": [
    "## How to check encoding type of a file"
   ]
  },
  {
   "cell_type": "code",
   "execution_count": null,
   "id": "0ba6c342",
   "metadata": {},
   "outputs": [],
   "source": [
    "## First of all need this library\n",
    "# modules we'll use\n",
    "\n",
    "!pip install chardet\n",
    "import chardet\n",
    "\n",
    "## Read the file in readbyte mode and use first 10000 bytes from file\n",
    "## and check the encoding type and save result\n",
    "\n",
    "with open(\"filepath\", 'rb') as rawdata:\n",
    "    result = chardet.detect(rawdata.read(10000))\n",
    "\n",
    "# check what the character encoding might be\n",
    "print(result)"
   ]
  },
  {
   "cell_type": "code",
   "execution_count": null,
   "id": "293fb4fd",
   "metadata": {},
   "outputs": [],
   "source": []
  }
 ],
 "metadata": {
  "kernelspec": {
   "display_name": "Python 3 (ipykernel)",
   "language": "python",
   "name": "python3"
  },
  "language_info": {
   "codemirror_mode": {
    "name": "ipython",
    "version": 3
   },
   "file_extension": ".py",
   "mimetype": "text/x-python",
   "name": "python",
   "nbconvert_exporter": "python",
   "pygments_lexer": "ipython3",
   "version": "3.10.3"
  }
 },
 "nbformat": 4,
 "nbformat_minor": 5
}
